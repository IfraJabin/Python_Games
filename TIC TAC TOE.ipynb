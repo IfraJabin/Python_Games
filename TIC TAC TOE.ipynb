{
 "cells": [
  {
   "cell_type": "markdown",
   "id": "997d1786",
   "metadata": {},
   "source": [
    "# board for the game"
   ]
  },
  {
   "cell_type": "code",
   "execution_count": 1,
   "id": "f171d01c",
   "metadata": {},
   "outputs": [],
   "source": [
    "from IPython.display import clear_output\n",
    "def game_board(board):\n",
    "    clear_output\n",
    "    print(board[1]+'|'+board[2]+'|'+board[3])\n",
    "    print(board[4]+'|'+board[5]+'|'+board[6])\n",
    "    print(board[7]+'|'+board[8]+'|'+board[9])"
   ]
  },
  {
   "cell_type": "code",
   "execution_count": 2,
   "id": "9b81fac7",
   "metadata": {
    "scrolled": true
   },
   "outputs": [
    {
     "name": "stdout",
     "output_type": "stream",
     "text": [
      " | | \n",
      " | | \n",
      " | | \n"
     ]
    }
   ],
   "source": [
    "boardd=[' ']*10\n",
    "game_board(boardd)"
   ]
  },
  {
   "cell_type": "markdown",
   "id": "572f1c8c",
   "metadata": {},
   "source": [
    "# who starts"
   ]
  },
  {
   "cell_type": "code",
   "execution_count": 3,
   "id": "8b6ce9a9",
   "metadata": {},
   "outputs": [],
   "source": [
    "import random\n",
    "def start():\n",
    "    if random.randint(1,2)==1:\n",
    "        return 'Player 1'\n",
    "    else:\n",
    "        return 'Player 2'"
   ]
  },
  {
   "cell_type": "code",
   "execution_count": 4,
   "id": "c91d38de",
   "metadata": {},
   "outputs": [],
   "source": [
    "first=start()"
   ]
  },
  {
   "cell_type": "code",
   "execution_count": 5,
   "id": "426ecbaa",
   "metadata": {},
   "outputs": [
    {
     "data": {
      "text/plain": [
       "'Player 2'"
      ]
     },
     "execution_count": 5,
     "metadata": {},
     "output_type": "execute_result"
    }
   ],
   "source": [
    "first"
   ]
  },
  {
   "cell_type": "markdown",
   "id": "e0ece84b",
   "metadata": {},
   "source": [
    "# x or o"
   ]
  },
  {
   "cell_type": "code",
   "execution_count": 6,
   "id": "ece126ff",
   "metadata": {},
   "outputs": [],
   "source": [
    "def player_symbol():\n",
    "    input_symbol=input(\"choose 'X' or 'O': \").upper()\n",
    "    if input_symbol=='X':\n",
    "        return 'X'\n",
    "    else:\n",
    "        return 'O'"
   ]
  },
  {
   "cell_type": "code",
   "execution_count": 7,
   "id": "f014cf6d",
   "metadata": {},
   "outputs": [
    {
     "name": "stdout",
     "output_type": "stream",
     "text": [
      "choose 'X' or 'O': x\n"
     ]
    }
   ],
   "source": [
    "symbol=player_symbol()"
   ]
  },
  {
   "cell_type": "markdown",
   "id": "da4f0aca",
   "metadata": {},
   "source": [
    "# checking for free spaces"
   ]
  },
  {
   "cell_type": "code",
   "execution_count": 8,
   "id": "849bd34b",
   "metadata": {},
   "outputs": [],
   "source": [
    "def space_check(board,position):\n",
    "    if board[position]==' ':\n",
    "        return True\n",
    "    else:\n",
    "        return False"
   ]
  },
  {
   "cell_type": "code",
   "execution_count": 9,
   "id": "1409da56",
   "metadata": {},
   "outputs": [
    {
     "name": "stdout",
     "output_type": "stream",
     "text": [
      "enter number: 6\n"
     ]
    },
    {
     "data": {
      "text/plain": [
       "True"
      ]
     },
     "execution_count": 9,
     "metadata": {},
     "output_type": "execute_result"
    }
   ],
   "source": [
    "position=int(input('enter number: '))\n",
    "space_check(boardd,position)"
   ]
  },
  {
   "cell_type": "markdown",
   "id": "9b096ae8",
   "metadata": {},
   "source": [
    "# where the symbols should be placed"
   ]
  },
  {
   "cell_type": "code",
   "execution_count": 10,
   "id": "a0ff5575",
   "metadata": {},
   "outputs": [],
   "source": [
    "def position_board(board):\n",
    "    if space_check(board,position)==True:\n",
    "        return position"
   ]
  },
  {
   "cell_type": "code",
   "execution_count": 11,
   "id": "edc2dab7",
   "metadata": {},
   "outputs": [],
   "source": [
    "position=position_board(boardd)"
   ]
  },
  {
   "cell_type": "code",
   "execution_count": 12,
   "id": "c6bfbc8a",
   "metadata": {},
   "outputs": [
    {
     "data": {
      "text/plain": [
       "6"
      ]
     },
     "execution_count": 12,
     "metadata": {},
     "output_type": "execute_result"
    }
   ],
   "source": [
    "position"
   ]
  },
  {
   "cell_type": "markdown",
   "id": "e249294b",
   "metadata": {},
   "source": [
    "# placement of the symbol"
   ]
  },
  {
   "cell_type": "code",
   "execution_count": 13,
   "id": "4620d9a8",
   "metadata": {},
   "outputs": [],
   "source": [
    "def placement(board,position):\n",
    "    board[position]=symbol"
   ]
  },
  {
   "cell_type": "code",
   "execution_count": 14,
   "id": "dca27dcf",
   "metadata": {},
   "outputs": [
    {
     "name": "stdout",
     "output_type": "stream",
     "text": [
      " | | \n",
      " | |X\n",
      " | | \n"
     ]
    }
   ],
   "source": [
    "placement(boardd,position)\n",
    "game_board(boardd)"
   ]
  },
  {
   "cell_type": "markdown",
   "id": "4ffddf3b",
   "metadata": {},
   "source": [
    "# win check"
   ]
  },
  {
   "cell_type": "code",
   "execution_count": 15,
   "id": "d9857802",
   "metadata": {},
   "outputs": [],
   "source": [
    "def win_check(board,symbol):\n",
    "    return ((board[1]==symbol and board[2]==symbol and board[3]==symbol or\n",
    "            board[4]==symbol and board[5]==symbol and board[6]==symbol or\n",
    "            board[7]==symbol and board[8]==symbol and board[9]==symbol or\n",
    "            board[1]==symbol and board[4]==symbol and board[7]==symbol or\n",
    "            board[2]==symbol and board[5]==symbol and board[8]==symbol or\n",
    "            board[3]==symbol and board[6]==symbol and board[9]==symbol or\n",
    "            board[1]==symbol and board[5]==symbol and board[9]==symbol or\n",
    "            board[3]==symbol and board[5]==symbol and board[7]==symbol))\n"
   ]
  },
  {
   "cell_type": "code",
   "execution_count": 16,
   "id": "8d81e039",
   "metadata": {},
   "outputs": [
    {
     "data": {
      "text/plain": [
       "False"
      ]
     },
     "execution_count": 16,
     "metadata": {},
     "output_type": "execute_result"
    }
   ],
   "source": [
    "win_check(boardd,symbol)"
   ]
  },
  {
   "cell_type": "markdown",
   "id": "aec788b9",
   "metadata": {},
   "source": [
    "# tie check"
   ]
  },
  {
   "cell_type": "code",
   "execution_count": 17,
   "id": "bc700316",
   "metadata": {},
   "outputs": [],
   "source": [
    "def tie_check(board):\n",
    "    return len([x for x in board if x == ' ']) == 1"
   ]
  },
  {
   "cell_type": "code",
   "execution_count": 18,
   "id": "4f853522",
   "metadata": {},
   "outputs": [
    {
     "data": {
      "text/plain": [
       "False"
      ]
     },
     "execution_count": 18,
     "metadata": {},
     "output_type": "execute_result"
    }
   ],
   "source": [
    "tie_check(boardd)"
   ]
  },
  {
   "cell_type": "markdown",
   "id": "7687e997",
   "metadata": {},
   "source": [
    "# replay"
   ]
  },
  {
   "cell_type": "code",
   "execution_count": 19,
   "id": "ea413bc6",
   "metadata": {},
   "outputs": [],
   "source": [
    "def replay_game():\n",
    "     return input(\"do you wanna play again? enter 'yes' or 'no': \").lower()=='yes'"
   ]
  },
  {
   "cell_type": "code",
   "execution_count": 20,
   "id": "118dc768",
   "metadata": {},
   "outputs": [
    {
     "name": "stdout",
     "output_type": "stream",
     "text": [
      "do you wanna play again? enter 'yes' or 'no': no\n"
     ]
    },
    {
     "data": {
      "text/plain": [
       "False"
      ]
     },
     "execution_count": 20,
     "metadata": {},
     "output_type": "execute_result"
    }
   ],
   "source": [
    "replay_game()"
   ]
  },
  {
   "cell_type": "code",
   "execution_count": 21,
   "id": "178f3088",
   "metadata": {},
   "outputs": [
    {
     "name": "stdout",
     "output_type": "stream",
     "text": [
      "O|X|O\n",
      "X|X|O\n",
      " |O|X\n",
      "enter number: 7\n",
      "O|X|O\n",
      "X|X|O\n",
      "O|O|X\n",
      "Its a tie\n",
      "do you wanna play again? enter 'yes' or 'no': no\n"
     ]
    }
   ],
   "source": [
    "print('welcome to tic tac toe!')\n",
    "while True:\n",
    "    first=start()\n",
    "    print(first,'will play first')\n",
    "    symbol=player_symbol()\n",
    "    boardd=[' ']*10\n",
    "    play_game=input('are you ready? yes or no? ').lower()\n",
    "    if play_game=='yes':\n",
    "        game_on=True\n",
    "    else:\n",
    "        game_on=False\n",
    "        #game starts\n",
    "    while game_on:\n",
    "        if first=='Player 1':\n",
    "            clear_output()\n",
    "            game_board(boardd)\n",
    "            if symbol=='X':\n",
    "                symbol='O'\n",
    "            else:\n",
    "                symbol='X'\n",
    "            position=int(input('enter number: '))\n",
    "            placement(boardd,position)\n",
    "            if win_check(boardd,symbol)==True:\n",
    "                game_on=False\n",
    "                print('You Won!')\n",
    "                clear_output\n",
    "                game_board(boardd)\n",
    "            elif tie_check(boardd)==True:\n",
    "                game_on=False\n",
    "                clear_output\n",
    "                game_board(boardd)\n",
    "                print('Its a tie')\n",
    "                \n",
    "        elif first=='Player 2':\n",
    "            clear_output()\n",
    "            game_board(boardd)\n",
    "            if symbol=='O':\n",
    "                symbol='X'\n",
    "            else:\n",
    "                symbol='O'\n",
    "            position=int(input('enter number: '))\n",
    "            placement(boardd,position)\n",
    "            if win_check(boardd,symbol)==True:\n",
    "                game_on=False\n",
    "                print('You Won!')\n",
    "                clear_output\n",
    "                game_board(boardd)\n",
    "            elif tie_check(boardd)==True:\n",
    "                game_on=False\n",
    "                clear_output\n",
    "                game_board(boardd)\n",
    "                print('Its a tie')\n",
    "                \n",
    "        else:\n",
    "            first='Player 1'\n",
    "    if not replay_game():\n",
    "        break"
   ]
  },
  {
   "cell_type": "code",
   "execution_count": null,
   "id": "5adfe27b",
   "metadata": {},
   "outputs": [],
   "source": []
  }
 ],
 "metadata": {
  "kernelspec": {
   "display_name": "Python 3 (ipykernel)",
   "language": "python",
   "name": "python3"
  },
  "language_info": {
   "codemirror_mode": {
    "name": "ipython",
    "version": 3
   },
   "file_extension": ".py",
   "mimetype": "text/x-python",
   "name": "python",
   "nbconvert_exporter": "python",
   "pygments_lexer": "ipython3",
   "version": "3.9.12"
  }
 },
 "nbformat": 4,
 "nbformat_minor": 5
}
