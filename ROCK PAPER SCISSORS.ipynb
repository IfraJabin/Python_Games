{
 "cells": [
  {
   "cell_type": "markdown",
   "id": "4ce33597",
   "metadata": {},
   "source": [
    "# Player Choice"
   ]
  },
  {
   "cell_type": "code",
   "execution_count": 9,
   "id": "576f2a8a",
   "metadata": {},
   "outputs": [],
   "source": [
    "def my_choice():\n",
    "    mychoice=input('Choose R,P Or S: ').capitalize()\n",
    "    return mychoice"
   ]
  },
  {
   "cell_type": "code",
   "execution_count": 10,
   "id": "8e6b502a",
   "metadata": {
    "scrolled": true
   },
   "outputs": [
    {
     "name": "stdout",
     "output_type": "stream",
     "text": [
      "Choose R,P Or S: p\n"
     ]
    },
    {
     "data": {
      "text/plain": [
       "'P'"
      ]
     },
     "execution_count": 10,
     "metadata": {},
     "output_type": "execute_result"
    }
   ],
   "source": [
    "my_choice()"
   ]
  },
  {
   "cell_type": "code",
   "execution_count": null,
   "id": "318e7349",
   "metadata": {},
   "outputs": [],
   "source": []
  },
  {
   "cell_type": "markdown",
   "id": "80b92655",
   "metadata": {},
   "source": [
    "# Computer's Choice"
   ]
  },
  {
   "cell_type": "code",
   "execution_count": 27,
   "id": "1c68d6c0",
   "metadata": {},
   "outputs": [],
   "source": [
    "import random\n",
    "def computer_choice():\n",
    "    possibilities=['R','P','S']\n",
    "    comchoice=random.choice(possibilities)\n",
    "    return(comchoice)"
   ]
  },
  {
   "cell_type": "code",
   "execution_count": 29,
   "id": "714bdc34",
   "metadata": {},
   "outputs": [
    {
     "data": {
      "text/plain": [
       "'S'"
      ]
     },
     "execution_count": 29,
     "metadata": {},
     "output_type": "execute_result"
    }
   ],
   "source": [
    "computer_choice()"
   ]
  },
  {
   "cell_type": "code",
   "execution_count": null,
   "id": "d9da1ace",
   "metadata": {},
   "outputs": [],
   "source": []
  },
  {
   "cell_type": "markdown",
   "id": "288eb099",
   "metadata": {},
   "source": [
    "# Win Check"
   ]
  },
  {
   "cell_type": "code",
   "execution_count": 51,
   "id": "36bbb4b0",
   "metadata": {},
   "outputs": [],
   "source": [
    "def win_check():\n",
    "    if mychoice==comchoice:\n",
    "        print('You both chose',mychoice,'.Its a Tie!!')\n",
    "    elif mychoice=='R' and comchoice=='P':\n",
    "        print('Paper covers Rock. You Lost!!')\n",
    "    elif mychoice=='R' and comchoice=='S':\n",
    "        print('Rock smashes Scissors. You Won!!')\n",
    "    elif mychoice=='P' and comchoice=='R':\n",
    "        print('Paper covers Rock. You Won!!')\n",
    "    elif mychoice=='P' and comchoice=='S':\n",
    "        print('Scissors cuts Paper. You Lost!!')\n",
    "    elif mychoice=='S' and comchoice=='R':\n",
    "        print('Rock smashes Scissors. You Lost!!')\n",
    "    elif mychoice=='S' and comchoice=='P':\n",
    "        print('Scissors cuts Paper. You Won!!')\n",
    "    else:\n",
    "        print('Invalid Input!')"
   ]
  },
  {
   "cell_type": "code",
   "execution_count": 52,
   "id": "c8a423d0",
   "metadata": {
    "scrolled": false
   },
   "outputs": [
    {
     "name": "stdout",
     "output_type": "stream",
     "text": [
      "Paper covers Rock. You Won!!\n"
     ]
    }
   ],
   "source": [
    "win_check()"
   ]
  },
  {
   "cell_type": "code",
   "execution_count": null,
   "id": "74c1d23d",
   "metadata": {},
   "outputs": [],
   "source": []
  },
  {
   "cell_type": "markdown",
   "id": "f44ee9ea",
   "metadata": {},
   "source": [
    "#  Replay"
   ]
  },
  {
   "cell_type": "code",
   "execution_count": 46,
   "id": "66c4864b",
   "metadata": {},
   "outputs": [],
   "source": [
    "def replay_game():\n",
    "     return input(\"do you wanna play again? enter 'yes' or 'no': \").lower()=='yes'"
   ]
  },
  {
   "cell_type": "code",
   "execution_count": 47,
   "id": "29933f8a",
   "metadata": {},
   "outputs": [
    {
     "name": "stdout",
     "output_type": "stream",
     "text": [
      "do you wanna play again? enter 'yes' or 'no': yes\n"
     ]
    },
    {
     "data": {
      "text/plain": [
       "True"
      ]
     },
     "execution_count": 47,
     "metadata": {},
     "output_type": "execute_result"
    }
   ],
   "source": [
    "replay_game()"
   ]
  },
  {
   "cell_type": "code",
   "execution_count": null,
   "id": "cfa24e0a",
   "metadata": {},
   "outputs": [],
   "source": []
  },
  {
   "cell_type": "code",
   "execution_count": 49,
   "id": "7f6f9ff3",
   "metadata": {},
   "outputs": [
    {
     "name": "stdout",
     "output_type": "stream",
     "text": [
      "Welcome To Rock Paper Scissors\n",
      "Choose R for Rock\n",
      "Choose P for Paper\n",
      "Choose S for Scissors\n",
      "Choose R,P Or S: p\n",
      "Paper covers Rock. You Won!!\n",
      "do you wanna play again? enter 'yes' or 'no': yes\n",
      "Choose R,P Or S: p\n",
      "Scissors cuts Paper. You Lost!!\n",
      "do you wanna play again? enter 'yes' or 'no': yes\n",
      "Choose R,P Or S: p\n",
      "You both chose P .Its a Tie!!\n",
      "do you wanna play again? enter 'yes' or 'no': yes\n",
      "Choose R,P Or S: P\n",
      "Paper covers Rock. You Won!!\n",
      "do you wanna play again? enter 'yes' or 'no': NO\n"
     ]
    }
   ],
   "source": [
    "import random\n",
    "from IPython.display import clear_output\n",
    "print('Welcome To Rock Paper Scissors')\n",
    "print('Choose R for Rock')\n",
    "print('Choose P for Paper')\n",
    "print('Choose S for Scissors')\n",
    "while True:\n",
    "    mychoice=my_choice()\n",
    "    comchoice=computer_choice()\n",
    "    win_check()\n",
    "    if replay_game():\n",
    "        pass\n",
    "    else:\n",
    "        break"
   ]
  },
  {
   "cell_type": "code",
   "execution_count": null,
   "id": "547f1873",
   "metadata": {},
   "outputs": [],
   "source": []
  }
 ],
 "metadata": {
  "kernelspec": {
   "display_name": "Python 3 (ipykernel)",
   "language": "python",
   "name": "python3"
  },
  "language_info": {
   "codemirror_mode": {
    "name": "ipython",
    "version": 3
   },
   "file_extension": ".py",
   "mimetype": "text/x-python",
   "name": "python",
   "nbconvert_exporter": "python",
   "pygments_lexer": "ipython3",
   "version": "3.9.12"
  }
 },
 "nbformat": 4,
 "nbformat_minor": 5
}
